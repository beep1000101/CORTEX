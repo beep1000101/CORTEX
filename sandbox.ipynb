{
 "cells": [
  {
   "cell_type": "code",
   "execution_count": 1,
   "metadata": {},
   "outputs": [],
   "source": [
    "import os\n",
    "from openai import OpenAI"
   ]
  },
  {
   "cell_type": "code",
   "execution_count": 2,
   "metadata": {},
   "outputs": [],
   "source": [
    "INSTRUCTIONS = \"\"\"\n",
    "Jeteś asystentem CORTEX, który pomaga restauratorom w sprawach prawnych. Twoim zadaniem jest pomóc restauratorom w zrozumieniu i przestrzeganiu przepisów prawa dotyczących branży restauracyjnej. Twoje zadania obejmują:\n",
    "\n",
    "Będziesz odpowiadać na pytania dotyczące prawa restauracyjnego. Do dyspozycji będziesz miał dokumenty prawne, takie jak kodeksy, przepisy i wytyczne.\n",
    "\n",
    "Jako że porady dotyczą prawnych kwestii, upewnij się, że Twoje odpowiedzi są zgodne z obowiązującymi przepisami prawa.\n",
    "\n",
    "Jako asystent prawny masz być uprzejmy, ale okazjonalnie możesz być kąśliwy w odpowiedziach. Dopuszczalny jest sarkazm, ale nie obrażanie.\n",
    "\n",
    "Komunikuj się wyłącznie w języku polskim.\n",
    "\n",
    "W razie wątpliwości, staraj się przekierować użytkownika do bardziej szczegółowej porady prawnej.\n",
    "\n",
    "Za każym razem kończąc wypowiedź, dodaj, że: W każdym przypadku, zaleca się konsultację z prawnikiem lub ekspertem ds. prawa restauracyjnego w celu uzyskania bardziej szczegółowej porady zgodnie z obowiązującymi przepisami prawa.\n",
    "\"\"\""
   ]
  },
  {
   "cell_type": "code",
   "execution_count": 2,
   "metadata": {},
   "outputs": [],
   "source": [
    "OPENAI_API_KEY = os.getenv(\"OPENAI_API_KEY\")\n",
    "ASSISTANT_ID = os.getenv(\"ASSISTANT_ID\")"
   ]
  },
  {
   "cell_type": "code",
   "execution_count": 3,
   "metadata": {},
   "outputs": [],
   "source": [
    "client = OpenAI(api_key=OPENAI_API_KEY)"
   ]
  },
  {
   "cell_type": "code",
   "execution_count": 4,
   "metadata": {},
   "outputs": [],
   "source": [
    "assistant = client.beta.assistants.retrieve(ASSISTANT_ID)"
   ]
  },
  {
   "cell_type": "code",
   "execution_count": 5,
   "metadata": {},
   "outputs": [
    {
     "data": {
      "text/plain": [
       "Assistant(id='asst_cpVoBpVtHibJfiGDXyGdDroI', created_at=1730056004, description=None, instructions='\\nJeteś asystentem CORTEX, który pomaga restauratorom w sprawach prawnych. Twoim zadaniem jest pomóc restauratorom w zrozumieniu i przestrzeganiu przepisów prawa dotyczących branży restauracyjnej. Twoje zadania obejmują:\\n\\nBędziesz odpowiadać na pytania dotyczące prawa restauracyjnego. Do dyspozycji będziesz miał dokumenty prawne, takie jak kodeksy, przepisy i wytyczne.\\n\\nJako że porady dotyczą prawnych kwestii, upewnij się, że Twoje odpowiedzi są zgodne z obowiązującymi przepisami prawa.\\n\\nJako asystent prawny masz być uprzejmy, ale okazjonalnie możesz być kąśliwy w odpowiedziach. Dopuszczalny jest sarkazm, ale nie obrażanie.\\n\\nKomunikuj się wyłącznie w języku polskim.\\n\\nW razie wątpliwości, staraj się przekierować użytkownika do bardziej szczegółowej porady prawnej.\\n\\nZa każym razem kończąc wypowiedź, dodaj, że: W każdym przypadku, zaleca się konsultację z prawnikiem lub ekspertem ds. prawa restauracyjnego w celu uzyskania bardziej szczegółowej porady zgodnie z obowiązującymi przepisami prawa.\\n', metadata={}, model='gpt-3.5-turbo-0125', name='CORTEX', object='assistant', tools=[CodeInterpreterTool(type='code_interpreter'), FileSearchTool(type='file_search', file_search={'ranking_options': {'ranker': 'default_2024_08_21', 'score_threshold': 0.0}})], response_format='auto', temperature=1.0, tool_resources=ToolResources(code_interpreter=ToolResourcesCodeInterpreter(file_ids=[]), file_search=ToolResourcesFileSearch(vector_store_ids=['vs_hwdxkFXfSYwK2iHGly7lcjEg'])), top_p=1.0)"
      ]
     },
     "execution_count": 5,
     "metadata": {},
     "output_type": "execute_result"
    }
   ],
   "source": [
    "assistant"
   ]
  }
 ],
 "metadata": {
  "kernelspec": {
   "display_name": "cortex",
   "language": "python",
   "name": "python3"
  },
  "language_info": {
   "codemirror_mode": {
    "name": "ipython",
    "version": 3
   },
   "file_extension": ".py",
   "mimetype": "text/x-python",
   "name": "python",
   "nbconvert_exporter": "python",
   "pygments_lexer": "ipython3",
   "version": "3.11.9"
  }
 },
 "nbformat": 4,
 "nbformat_minor": 2
}
